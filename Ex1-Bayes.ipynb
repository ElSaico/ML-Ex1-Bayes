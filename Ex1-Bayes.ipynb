{
 "cells": [
  {
   "cell_type": "heading",
   "metadata": {
    "collapsed": true
   },
   "level": 1,
   "source": [
    "Exercícios sobre Classificadores Bayesianos"
   ]
  },
  {
   "cell_type": "markdown",
   "metadata": {},
   "source": [
    "Inicialmente é preciso inserir as variáveis correspondentes às probabilidades já conhecidas:"
   ]
  },
  {
   "cell_type": "code",
   "execution_count": 2,
   "metadata": {},
   "outputs": [
    {
     "name": "stdout",
     "output_type": "stream",
     "text": [
      "N=1    0.4\nN=2    0.6\ndtype: float64\n       F    V\nN=1  0.1  0.9\nN=2  0.7  0.3\n     Du=F,Td=F  Du=F,Td=V  Du=V,Td=F  Du=V,Td=V\nN=1        0.4        0.2        0.1        0.3\nN=2        0.1        0.3        0.3        0.3\n"
     ]
    }
   ],
   "source": [
    "# coding: utf-8\n",
    "import pandas as pd\n",
    "from IPython.display import display\n",
    "\n",
    "# probabilidade de navegador corresponder ao perfil\n",
    "P_N = pd.Series([0.4, 0.6], index=['N=1', 'N=2'])\n",
    "print P_N\n",
    "\n",
    "# probabilidade de navegador realizar compras ou não\n",
    "P_C_N = pd.DataFrame({'V': [0.9, 0.3], 'F': [0.1, 0.7]}, index=['N=1', 'N=2'])\n",
    "print P_C_N\n",
    "\n",
    "P_DuTd_N = pd.DataFrame({  # probabilidades de acesso para cada tipo de navegador\n",
    "    'Du=V,Td=V': [0.3, 0.3],\n",
    "    'Du=V,Td=F': [0.1, 0.3],\n",
    "    'Du=F,Td=V': [0.2, 0.3],\n",
    "    'Du=F,Td=F': [0.4, 0.1],\n",
    "}, index=['N=1', 'N=2'])\n",
    "print P_DuTd_N"
   ]
  },
  {
   "cell_type": "markdown",
   "metadata": {},
   "source": [
    "A partir daí, podemos aplicar os classificadores bayesianos.\n",
    "\n",
    "Para o classificador pela máxima probabilidade ``a posteriori``, é necessário calcular as probabilidades máximas para cada tipo de acesso:"
   ]
  },
  {
   "cell_type": "code",
   "execution_count": 3,
   "metadata": {},
   "outputs": [
    {
     "name": "stdout",
     "output_type": "stream",
     "text": [
      "P(N|Du,Td):\n     Du=F,Td=F  Du=F,Td=V  Du=V,Td=F  Du=V,Td=V\nN=1       0.16       0.08       0.04       0.12\nN=2       0.06       0.18       0.18       0.18\nh_max:\nDu=F,Td=F    N=1\nDu=F,Td=V    N=2\nDu=V,Td=F    N=2\nDu=V,Td=V    N=2\ndtype: object\nP(C|h_max):\n             F    V\nDu=F,Td=F  0.1  0.9\nDu=F,Td=V  0.7  0.3\nDu=V,Td=F  0.7  0.3\nDu=V,Td=V  0.7  0.3\nC_MAP:\nDu=F,Td=F    V\nDu=F,Td=V    F\nDu=V,Td=F    F\nDu=V,Td=V    F\ndtype: object\n"
     ]
    }
   ],
   "source": [
    "P_N_DuTd = P_DuTd_N.apply(lambda col: col*P_N, axis=0)\n",
    "print 'P(N|Du,Td):'\n",
    "print P_N_DuTd\n",
    "\n",
    "hmax = P_N_DuTd.idxmax(axis=0)\n",
    "print 'h_max:'\n",
    "print hmax\n",
    "\n",
    "P_C_hmax = P_C_N.loc[hmax]\n",
    "P_C_hmax.index = hmax.index\n",
    "print 'P(C|h_max):'\n",
    "print P_C_hmax\n",
    "\n",
    "cmap = P_C_hmax.idxmax(axis=1)\n",
    "print 'C_MAP:'\n",
    "print cmap"
   ]
  },
  {
   "cell_type": "markdown",
   "metadata": {},
   "source": [
    "Com isso temos os valores para a coluna C_{MAP}.\n",
    "\n",
    "O classificador ótimo bayesiano usa uma fórmula similar:"
   ]
  },
  {
   "cell_type": "code",
   "execution_count": 5,
   "metadata": {},
   "outputs": [
    {
     "data": {
      "text/html": [
       "<div>\n",
       "<table border=\"1\" class=\"dataframe\">\n",
       "  <thead>\n",
       "    <tr style=\"text-align: right;\">\n",
       "      <th></th>\n",
       "      <th>V</th>\n",
       "      <th>F</th>\n",
       "    </tr>\n",
       "  </thead>\n",
       "  <tbody>\n",
       "    <tr>\n",
       "      <th>Du=F,Td=F</th>\n",
       "      <td>0.162</td>\n",
       "      <td>0.058</td>\n",
       "    </tr>\n",
       "    <tr>\n",
       "      <th>Du=F,Td=V</th>\n",
       "      <td>0.126</td>\n",
       "      <td>0.134</td>\n",
       "    </tr>\n",
       "    <tr>\n",
       "      <th>Du=V,Td=F</th>\n",
       "      <td>0.090</td>\n",
       "      <td>0.130</td>\n",
       "    </tr>\n",
       "    <tr>\n",
       "      <th>Du=V,Td=V</th>\n",
       "      <td>0.162</td>\n",
       "      <td>0.138</td>\n",
       "    </tr>\n",
       "  </tbody>\n",
       "</table>\n",
       "</div>"
      ],
      "text/plain": [
       "<div>\n",
       "<table border=\"1\" class=\"dataframe\">\n",
       "  <thead>\n",
       "    <tr style=\"text-align: right;\">\n",
       "      <th></th>\n",
       "      <th>V</th>\n",
       "      <th>F</th>\n",
       "    </tr>\n",
       "  </thead>\n",
       "  <tbody>\n",
       "    <tr>\n",
       "      <th>Du=F,Td=F</th>\n",
       "      <td>0.162</td>\n",
       "      <td>0.058</td>\n",
       "    </tr>\n",
       "    <tr>\n",
       "      <th>Du=F,Td=V</th>\n",
       "      <td>0.126</td>\n",
       "      <td>0.134</td>\n",
       "    </tr>\n",
       "    <tr>\n",
       "      <th>Du=V,Td=F</th>\n",
       "      <td>0.090</td>\n",
       "      <td>0.130</td>\n",
       "    </tr>\n",
       "    <tr>\n",
       "      <th>Du=V,Td=V</th>\n",
       "      <td>0.162</td>\n",
       "      <td>0.138</td>\n",
       "    </tr>\n",
       "  </tbody>\n",
       "</table>\n",
       "</div>"
      ]
     },
     "execution_count": 0,
     "metadata": {},
     "output_type": "execute_result"
    },
    {
     "data": {
      "text/plain": [
       "Du=F,Td=F    V\nDu=F,Td=V    F\nDu=V,Td=F    F\nDu=V,Td=V    V\ndtype: object"
      ]
     },
     "execution_count": 0,
     "metadata": {},
     "output_type": "execute_result"
    }
   ],
   "source": [
    "P_C_V = P_N_DuTd.apply(lambda col: col*P_C_N['V'], axis=0).sum(axis=0)\n",
    "P_C_F = P_N_DuTd.apply(lambda col: col*P_C_N['F'], axis=0).sum(axis=0)\n",
    "P_Cj = pd.concat([P_C_V, P_C_F], axis=1, keys=['V', 'F'])\n",
    "\n",
    "copt = P_Cj.idxmax(axis=1)\n",
    "display(P_Cj, copt)"
   ]
  },
  {
   "cell_type": "markdown",
   "metadata": {},
   "source": [
    "Como pode-se ver na matriz de probabilidades resultante, o classificador ótimo bayesiano gera um empate para `Du = V` e `Td = V`.\n",
    "\n",
    "Através do uso de ambos os classificadores, podemos obter os seguintes valores:\n"
   ]
  },
  {
   "cell_type": "code",
   "execution_count": 185,
   "metadata": {},
   "outputs": [
    {
     "data": {
      "text/html": [
       "<div>\n",
       "<table border=\"1\" class=\"dataframe\">\n",
       "  <thead>\n",
       "    <tr style=\"text-align: right;\">\n",
       "      <th></th>\n",
       "      <th>C_MAP</th>\n",
       "      <th>C_OPT</th>\n",
       "    </tr>\n",
       "  </thead>\n",
       "  <tbody>\n",
       "    <tr>\n",
       "      <th>Du=F,Td=F</th>\n",
       "      <td>V</td>\n",
       "      <td>V</td>\n",
       "    </tr>\n",
       "    <tr>\n",
       "      <th>Du=F,Td=V</th>\n",
       "      <td>F</td>\n",
       "      <td>F</td>\n",
       "    </tr>\n",
       "    <tr>\n",
       "      <th>Du=V,Td=F</th>\n",
       "      <td>F</td>\n",
       "      <td>F</td>\n",
       "    </tr>\n",
       "    <tr>\n",
       "      <th>Du=V,Td=V</th>\n",
       "      <td>F</td>\n",
       "      <td>V</td>\n",
       "    </tr>\n",
       "  </tbody>\n",
       "</table>\n",
       "</div>"
      ],
      "text/plain": [
       "<div>\n",
       "<table border=\"1\" class=\"dataframe\">\n",
       "  <thead>\n",
       "    <tr style=\"text-align: right;\">\n",
       "      <th></th>\n",
       "      <th>C_MAP</th>\n",
       "      <th>C_OPT</th>\n",
       "    </tr>\n",
       "  </thead>\n",
       "  <tbody>\n",
       "    <tr>\n",
       "      <th>Du=F,Td=F</th>\n",
       "      <td>V</td>\n",
       "      <td>V</td>\n",
       "    </tr>\n",
       "    <tr>\n",
       "      <th>Du=F,Td=V</th>\n",
       "      <td>F</td>\n",
       "      <td>F</td>\n",
       "    </tr>\n",
       "    <tr>\n",
       "      <th>Du=V,Td=F</th>\n",
       "      <td>F</td>\n",
       "      <td>F</td>\n",
       "    </tr>\n",
       "    <tr>\n",
       "      <th>Du=V,Td=V</th>\n",
       "      <td>F</td>\n",
       "      <td>V</td>\n",
       "    </tr>\n",
       "  </tbody>\n",
       "</table>\n",
       "</div>"
      ]
     },
     "execution_count": 0,
     "metadata": {},
     "output_type": "execute_result"
    }
   ],
   "source": [
    "pd.concat([cmap, copt], axis=1, keys=['C_MAP', 'C_OPT'])"
   ]
  },
  {
   "cell_type": "code",
   "execution_count": null,
   "metadata": {},
   "outputs": [],
   "source": [
    ""
   ]
  }
 ],
 "metadata": {
  "kernelspec": {
   "display_name": "Python 2",
   "language": "python",
   "name": "python2"
  },
  "language_info": {
   "codemirror_mode": {
    "name": "ipython",
    "version": 2.0
   },
   "file_extension": ".py",
   "mimetype": "text/x-python",
   "name": "python",
   "nbconvert_exporter": "python",
   "pygments_lexer": "ipython2",
   "version": "2.7.6"
  }
 },
 "nbformat": 4,
 "nbformat_minor": 0
}